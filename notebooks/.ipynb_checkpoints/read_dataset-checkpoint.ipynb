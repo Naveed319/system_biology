{
 "cells": [
  {
   "cell_type": "code",
   "execution_count": 1,
   "id": "d3ee1038",
   "metadata": {},
   "outputs": [],
   "source": [
    "import scanpy as sc\n",
    "import pandas as pd"
   ]
  },
  {
   "cell_type": "code",
   "execution_count": 38,
   "id": "8b00efa8",
   "metadata": {},
   "outputs": [],
   "source": [
    "import csv\n",
    "import gzip\n",
    "import os\n",
    "import scipy.io\n"
   ]
  },
  {
   "cell_type": "code",
   "execution_count": 3,
   "id": "7f6cf2a9",
   "metadata": {},
   "outputs": [],
   "source": [
    "sample = \"GSM5201883\"\n",
    "dataset_path = parent_dir + \"dataset_extracted/\" + sample"
   ]
  },
  {
   "cell_type": "code",
   "execution_count": 39,
   "id": "c6fa0073",
   "metadata": {},
   "outputs": [],
   "source": [
    "# read in MEX format matrix as table\n",
    "mat = scipy.io.mmread(r'dataset_extracted/GSM5201883/matrix.mtx.gz')\n"
   ]
  },
  {
   "cell_type": "code",
   "execution_count": 41,
   "id": "44ce8a01",
   "metadata": {},
   "outputs": [],
   "source": [
    "\n",
    "# list of transcript ids, e.g. 'ENSG00000243485'\n",
    "features_path = os.path.join(r'dataset_extracted/GSM5201883/features.tsv.gz')\n",
    "feature_ids = [row[0] for row in csv.reader(gzip.open(features_path, mode=\"rt\"), delimiter=\"\\t\")]\n",
    " "
   ]
  },
  {
   "cell_type": "code",
   "execution_count": 42,
   "id": "6788af59",
   "metadata": {},
   "outputs": [],
   "source": [
    "#list of gene names, e.g. 'MIR1302-2HG'\n",
    "gene_names = [row[1] for row in csv.reader(gzip.open(features_path, mode=\"rt\"), delimiter=\"\\t\")]\n"
   ]
  },
  {
   "cell_type": "code",
   "execution_count": 47,
   "id": "fda86e14",
   "metadata": {},
   "outputs": [
    {
     "data": {
      "text/plain": [
       "33538"
      ]
     },
     "execution_count": 47,
     "metadata": {},
     "output_type": "execute_result"
    }
   ],
   "source": [
    "len(gene_names)"
   ]
  },
  {
   "cell_type": "code",
   "execution_count": 44,
   "id": "f69a16a8",
   "metadata": {},
   "outputs": [],
   "source": [
    "\n",
    "# list of feature_types, e.g. 'Gene Expression'\n",
    "feature_types = [row[2] for row in csv.reader(gzip.open(features_path, mode=\"rt\"), delimiter=\"\\t\")]\n",
    "barcodes = [row[0] for row in csv.reader(r'dataset_extracted/GSM5201883/tsv.gz', delimiter=\"\\t\")]"
   ]
  },
  {
   "cell_type": "code",
   "execution_count": 48,
   "id": "3ee50bec",
   "metadata": {},
   "outputs": [
    {
     "ename": "ValueError",
     "evalue": "Length mismatch: Expected axis has 5538 elements, new values have 35 elements",
     "output_type": "error",
     "traceback": [
      "\u001b[1;31m---------------------------------------------------------------------------\u001b[0m",
      "\u001b[1;31mValueError\u001b[0m                                Traceback (most recent call last)",
      "Input \u001b[1;32mIn [48]\u001b[0m, in \u001b[0;36m<cell line: 3>\u001b[1;34m()\u001b[0m\n\u001b[0;32m      1\u001b[0m \u001b[38;5;66;03m# transform table to pandas dataframe and label rows and columns\u001b[39;00m\n\u001b[0;32m      2\u001b[0m matrix \u001b[38;5;241m=\u001b[39m pd\u001b[38;5;241m.\u001b[39mDataFrame\u001b[38;5;241m.\u001b[39msparse\u001b[38;5;241m.\u001b[39mfrom_spmatrix(mat)\n\u001b[1;32m----> 3\u001b[0m matrix\u001b[38;5;241m.\u001b[39mcolumns \u001b[38;5;241m=\u001b[39m barcodes\n\u001b[0;32m      4\u001b[0m matrix\u001b[38;5;241m.\u001b[39minsert(loc\u001b[38;5;241m=\u001b[39m\u001b[38;5;241m0\u001b[39m, column\u001b[38;5;241m=\u001b[39m\u001b[38;5;124m\"\u001b[39m\u001b[38;5;124mfeature_id\u001b[39m\u001b[38;5;124m\"\u001b[39m, value\u001b[38;5;241m=\u001b[39mfeature_ids)\n\u001b[0;32m      5\u001b[0m matrix\u001b[38;5;241m.\u001b[39minsert(loc\u001b[38;5;241m=\u001b[39m\u001b[38;5;241m0\u001b[39m, column\u001b[38;5;241m=\u001b[39m\u001b[38;5;124m\"\u001b[39m\u001b[38;5;124mgene\u001b[39m\u001b[38;5;124m\"\u001b[39m, value\u001b[38;5;241m=\u001b[39mgene_names)\n",
      "File \u001b[1;32m~\\AppData\\Local\\Programs\\Python\\Python310\\lib\\site-packages\\pandas\\core\\generic.py:5596\u001b[0m, in \u001b[0;36mNDFrame.__setattr__\u001b[1;34m(self, name, value)\u001b[0m\n\u001b[0;32m   5594\u001b[0m \u001b[38;5;28;01mtry\u001b[39;00m:\n\u001b[0;32m   5595\u001b[0m     \u001b[38;5;28mobject\u001b[39m\u001b[38;5;241m.\u001b[39m\u001b[38;5;21m__getattribute__\u001b[39m(\u001b[38;5;28mself\u001b[39m, name)\n\u001b[1;32m-> 5596\u001b[0m     \u001b[38;5;28;01mreturn\u001b[39;00m \u001b[38;5;28;43mobject\u001b[39;49m\u001b[38;5;241;43m.\u001b[39;49m\u001b[38;5;21;43m__setattr__\u001b[39;49m\u001b[43m(\u001b[49m\u001b[38;5;28;43mself\u001b[39;49m\u001b[43m,\u001b[49m\u001b[43m \u001b[49m\u001b[43mname\u001b[49m\u001b[43m,\u001b[49m\u001b[43m \u001b[49m\u001b[43mvalue\u001b[49m\u001b[43m)\u001b[49m\n\u001b[0;32m   5597\u001b[0m \u001b[38;5;28;01mexcept\u001b[39;00m \u001b[38;5;167;01mAttributeError\u001b[39;00m:\n\u001b[0;32m   5598\u001b[0m     \u001b[38;5;28;01mpass\u001b[39;00m\n",
      "File \u001b[1;32m~\\AppData\\Local\\Programs\\Python\\Python310\\lib\\site-packages\\pandas\\_libs\\properties.pyx:70\u001b[0m, in \u001b[0;36mpandas._libs.properties.AxisProperty.__set__\u001b[1;34m()\u001b[0m\n",
      "File \u001b[1;32m~\\AppData\\Local\\Programs\\Python\\Python310\\lib\\site-packages\\pandas\\core\\generic.py:769\u001b[0m, in \u001b[0;36mNDFrame._set_axis\u001b[1;34m(self, axis, labels)\u001b[0m\n\u001b[0;32m    767\u001b[0m \u001b[38;5;28;01mdef\u001b[39;00m \u001b[38;5;21m_set_axis\u001b[39m(\u001b[38;5;28mself\u001b[39m, axis: \u001b[38;5;28mint\u001b[39m, labels: Index) \u001b[38;5;241m-\u001b[39m\u001b[38;5;241m>\u001b[39m \u001b[38;5;28;01mNone\u001b[39;00m:\n\u001b[0;32m    768\u001b[0m     labels \u001b[38;5;241m=\u001b[39m ensure_index(labels)\n\u001b[1;32m--> 769\u001b[0m     \u001b[38;5;28;43mself\u001b[39;49m\u001b[38;5;241;43m.\u001b[39;49m\u001b[43m_mgr\u001b[49m\u001b[38;5;241;43m.\u001b[39;49m\u001b[43mset_axis\u001b[49m\u001b[43m(\u001b[49m\u001b[43maxis\u001b[49m\u001b[43m,\u001b[49m\u001b[43m \u001b[49m\u001b[43mlabels\u001b[49m\u001b[43m)\u001b[49m\n\u001b[0;32m    770\u001b[0m     \u001b[38;5;28mself\u001b[39m\u001b[38;5;241m.\u001b[39m_clear_item_cache()\n",
      "File \u001b[1;32m~\\AppData\\Local\\Programs\\Python\\Python310\\lib\\site-packages\\pandas\\core\\internals\\managers.py:214\u001b[0m, in \u001b[0;36mBaseBlockManager.set_axis\u001b[1;34m(self, axis, new_labels)\u001b[0m\n\u001b[0;32m    212\u001b[0m \u001b[38;5;28;01mdef\u001b[39;00m \u001b[38;5;21mset_axis\u001b[39m(\u001b[38;5;28mself\u001b[39m, axis: \u001b[38;5;28mint\u001b[39m, new_labels: Index) \u001b[38;5;241m-\u001b[39m\u001b[38;5;241m>\u001b[39m \u001b[38;5;28;01mNone\u001b[39;00m:\n\u001b[0;32m    213\u001b[0m     \u001b[38;5;66;03m# Caller is responsible for ensuring we have an Index object.\u001b[39;00m\n\u001b[1;32m--> 214\u001b[0m     \u001b[38;5;28;43mself\u001b[39;49m\u001b[38;5;241;43m.\u001b[39;49m\u001b[43m_validate_set_axis\u001b[49m\u001b[43m(\u001b[49m\u001b[43maxis\u001b[49m\u001b[43m,\u001b[49m\u001b[43m \u001b[49m\u001b[43mnew_labels\u001b[49m\u001b[43m)\u001b[49m\n\u001b[0;32m    215\u001b[0m     \u001b[38;5;28mself\u001b[39m\u001b[38;5;241m.\u001b[39maxes[axis] \u001b[38;5;241m=\u001b[39m new_labels\n",
      "File \u001b[1;32m~\\AppData\\Local\\Programs\\Python\\Python310\\lib\\site-packages\\pandas\\core\\internals\\base.py:69\u001b[0m, in \u001b[0;36mDataManager._validate_set_axis\u001b[1;34m(self, axis, new_labels)\u001b[0m\n\u001b[0;32m     66\u001b[0m     \u001b[38;5;28;01mpass\u001b[39;00m\n\u001b[0;32m     68\u001b[0m \u001b[38;5;28;01melif\u001b[39;00m new_len \u001b[38;5;241m!=\u001b[39m old_len:\n\u001b[1;32m---> 69\u001b[0m     \u001b[38;5;28;01mraise\u001b[39;00m \u001b[38;5;167;01mValueError\u001b[39;00m(\n\u001b[0;32m     70\u001b[0m         \u001b[38;5;124mf\u001b[39m\u001b[38;5;124m\"\u001b[39m\u001b[38;5;124mLength mismatch: Expected axis has \u001b[39m\u001b[38;5;132;01m{\u001b[39;00mold_len\u001b[38;5;132;01m}\u001b[39;00m\u001b[38;5;124m elements, new \u001b[39m\u001b[38;5;124m\"\u001b[39m\n\u001b[0;32m     71\u001b[0m         \u001b[38;5;124mf\u001b[39m\u001b[38;5;124m\"\u001b[39m\u001b[38;5;124mvalues have \u001b[39m\u001b[38;5;132;01m{\u001b[39;00mnew_len\u001b[38;5;132;01m}\u001b[39;00m\u001b[38;5;124m elements\u001b[39m\u001b[38;5;124m\"\u001b[39m\n\u001b[0;32m     72\u001b[0m     )\n",
      "\u001b[1;31mValueError\u001b[0m: Length mismatch: Expected axis has 5538 elements, new values have 35 elements"
     ]
    }
   ],
   "source": [
    "\n",
    "# transform table to pandas dataframe and label rows and columns\n",
    "matrix = pd.DataFrame.sparse.from_spmatrix(mat)\n",
    "matrix.columns = barcodes\n",
    "matrix.insert(loc=0, column=\"feature_id\", value=feature_ids)\n",
    "matrix.insert(loc=0, column=\"gene\", value=gene_names)\n",
    "matrix.insert(loc=0, column=\"feature_type\", value=feature_types)\n"
   ]
  },
  {
   "cell_type": "code",
   "execution_count": null,
   "id": "28d4e7d2",
   "metadata": {},
   "outputs": [],
   "source": [
    "# display matrix\n",
    "print(matrix)\n",
    "# # save the table as a CSV (note the CSV will be a very large file)\n",
    "# matrix.to_csv(\"mex_matrix.csv\", index=False)"
   ]
  },
  {
   "cell_type": "code",
   "execution_count": null,
   "id": "1964c5d4",
   "metadata": {},
   "outputs": [],
   "source": [
    "adata1 = sc.read_mtx(r'dataset_extracted/GSM5201883/matrix.mtx.gz')"
   ]
  },
  {
   "cell_type": "code",
   "execution_count": 18,
   "id": "b486030b",
   "metadata": {},
   "outputs": [],
   "source": [
    "adata2 = sc.read_mtx(r'dataset_extracted/GSM5201884/matrix.mtx.gz')"
   ]
  },
  {
   "cell_type": "code",
   "execution_count": 19,
   "id": "b58cb6c2",
   "metadata": {},
   "outputs": [],
   "source": [
    "adata3 = sc.read_mtx(r'dataset_extracted/GSM5201885/matrix.mtx.gz')"
   ]
  },
  {
   "cell_type": "code",
   "execution_count": 20,
   "id": "783a3d68",
   "metadata": {},
   "outputs": [],
   "source": [
    "adata4 = sc.read_mtx(r'dataset_extracted/GSM5201886/matrix.mtx.gz')"
   ]
  },
  {
   "cell_type": "code",
   "execution_count": 32,
   "id": "75004d1f",
   "metadata": {
    "scrolled": true
   },
   "outputs": [
    {
     "name": "stderr",
     "output_type": "stream",
     "text": [
      "C:\\Users\\rithi\\AppData\\Local\\Programs\\Python\\Python310\\lib\\site-packages\\anndata\\_core\\anndata.py:1828: UserWarning: Observation names are not unique. To make them unique, call `.obs_names_make_unique`.\n",
      "  utils.warn_names_duplicates(\"obs\")\n",
      "C:\\Users\\rithi\\AppData\\Local\\Programs\\Python\\Python310\\lib\\site-packages\\anndata\\_core\\anndata.py:1785: FutureWarning: X.dtype being converted to np.float32 from float64. In the next version of anndata (0.9) conversion will not be automatic. Pass dtype explicitly to avoid this warning. Pass `AnnData(X, dtype=X.dtype, ...)` to get the future behavour.\n",
      "  [AnnData(sparse.csr_matrix(a.shape), obs=a.obs) for a in all_adatas],\n",
      "C:\\Users\\rithi\\AppData\\Local\\Programs\\Python\\Python310\\lib\\site-packages\\anndata\\_core\\anndata.py:1828: UserWarning: Observation names are not unique. To make them unique, call `.obs_names_make_unique`.\n",
      "  utils.warn_names_duplicates(\"obs\")\n"
     ]
    }
   ],
   "source": [
    "adata = adata1.concatenate(adata2, adata3, adata4, index_unique=None)"
   ]
  },
  {
   "cell_type": "code",
   "execution_count": 33,
   "id": "a3f7eb23",
   "metadata": {},
   "outputs": [
    {
     "data": {
      "text/plain": [
       "(134152, 5538)"
      ]
     },
     "execution_count": 33,
     "metadata": {},
     "output_type": "execute_result"
    }
   ],
   "source": [
    "adata.shape"
   ]
  },
  {
   "cell_type": "code",
   "execution_count": 34,
   "id": "0cdc2ac0",
   "metadata": {},
   "outputs": [],
   "source": [
    "adata.var_names_make_unique() "
   ]
  },
  {
   "cell_type": "code",
   "execution_count": 35,
   "id": "852cd6d4",
   "metadata": {},
   "outputs": [
    {
     "data": {
      "text/plain": [
       "AnnData object with n_obs × n_vars = 134152 × 5538\n",
       "    obs: 'batch'"
      ]
     },
     "execution_count": 35,
     "metadata": {},
     "output_type": "execute_result"
    }
   ],
   "source": [
    "adata"
   ]
  },
  {
   "cell_type": "code",
   "execution_count": 36,
   "id": "a8b424e8",
   "metadata": {},
   "outputs": [
    {
     "name": "stderr",
     "output_type": "stream",
     "text": [
      "C:\\Users\\rithi\\AppData\\Local\\Programs\\Python\\Python310\\lib\\site-packages\\scanpy\\preprocessing\\_normalization.py:197: UserWarning: Some cells have zero counts\n",
      "  warn(UserWarning('Some cells have zero counts'))\n"
     ]
    },
    {
     "data": {
      "image/png": "[encoded data removed]",
      "text/plain": [
       "<Figure size 360x396 with 1 Axes>"
      ]
     },
     "metadata": {
      "needs_background": "light"
     },
     "output_type": "display_data"
    }
   ],
   "source": [
    "sc.pl.highest_expr_genes(adata, n_top=20, )\n"
   ]
  },
  {
   "cell_type": "code",
   "execution_count": null,
   "id": "269abbda",
   "metadata": {},
   "outputs": [],
   "source": []
  }
 ],
 "metadata": {
  "kernelspec": {
   "display_name": "Python 3 (ipykernel)",
   "language": "python",
   "name": "python3"
  },
  "language_info": {
   "codemirror_mode": {
    "name": "ipython",
    "version": 3
   },
   "file_extension": ".py",
   "mimetype": "text/x-python",
   "name": "python",
   "nbconvert_exporter": "python",
   "pygments_lexer": "ipython3",
   "version": "3.10.1"
  }
 },
 "nbformat": 4,
 "nbformat_minor": 5
}
